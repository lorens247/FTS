{
 "cells": [
  {
   "cell_type": "code",
   "execution_count": 1,
   "id": "082fde28",
   "metadata": {},
   "outputs": [
    {
     "name": "stdout",
     "output_type": "stream",
     "text": [
      "Requirement already satisfied: scikit-fuzzy in /home/lorens/anaconda3/lib/python3.8/site-packages (0.4.2)\n",
      "Requirement already satisfied: numpy>=1.6.0 in /home/lorens/anaconda3/lib/python3.8/site-packages (from scikit-fuzzy) (1.20.1)\n",
      "Requirement already satisfied: scipy>=0.9.0 in /home/lorens/anaconda3/lib/python3.8/site-packages (from scikit-fuzzy) (1.6.2)\n",
      "Requirement already satisfied: networkx>=1.9.0 in /home/lorens/anaconda3/lib/python3.8/site-packages (from scikit-fuzzy) (2.5)\n",
      "Requirement already satisfied: decorator>=4.3.0 in /home/lorens/anaconda3/lib/python3.8/site-packages (from networkx>=1.9.0->scikit-fuzzy) (4.3.0)\n",
      "Note: you may need to restart the kernel to use updated packages.\n"
     ]
    }
   ],
   "source": [
    "pip install -U scikit-fuzzy"
   ]
  },
  {
   "cell_type": "code",
   "execution_count": 1,
   "id": "32b4ac00",
   "metadata": {},
   "outputs": [],
   "source": [
    "import numpy as np\n",
    "import skfuzzy as fuzz"
   ]
  },
  {
   "cell_type": "code",
   "execution_count": 2,
   "id": "c696a63a",
   "metadata": {},
   "outputs": [
    {
     "name": "stdout",
     "output_type": "stream",
     "text": [
      "[      0.  824564. 1649128. 2473692. 3298256. 4122820.]\n"
     ]
    }
   ],
   "source": [
    "# Create universe of discourse in Python using linspace ()\n",
    "X = np.linspace(start=0, stop=4122820, num=6, endpoint=True, retstep=False)\n",
    "print(X)"
   ]
  },
  {
   "cell_type": "code",
   "execution_count": 6,
   "id": "8fabd945",
   "metadata": {},
   "outputs": [],
   "source": [
    "# Create five fuzzy sets by defining any membership function.\n",
    "\n",
    "A1 = [0, 0, 824564]\n",
    "A2 = [0, 824564, 1649128]\n",
    "A3 = [824564, 1649128, 2473692]\n",
    "A4 = [1649128, 2473692, 3298256]\n",
    "A5 = [2473692, 3298256, 4122820]\n",
    "A6 = [3298256, 4122820, 4122820]\n",
    "\n",
    "#Population Growth fuzzy set\n",
    "VLPG = fuzz.membership.trimf(X, A1)\n",
    "LPG = fuzz.membership.trimf(X, A2)\n",
    "MPG = fuzz.membership.trimf(X, A3)\n",
    "NPG = fuzz.membership.trimf(X, A4)\n",
    "HPG = fuzz.membership.trimf(X, A5)\n",
    "VHPG = fuzz.membership.trimf(X, A6)"
   ]
  },
  {
   "cell_type": "code",
   "execution_count": null,
   "id": "4bd92bac",
   "metadata": {},
   "outputs": [],
   "source": [
    "# Compute the different operations using inbuilt functions.\n",
    "one = np.ones(4122820)\n",
    "zero = np.zeros((4122820,))"
   ]
  },
  {
   "cell_type": "code",
   "execution_count": null,
   "id": "a8196df3",
   "metadata": {},
   "outputs": [],
   "source": [
    "# 1. Union = max(µA(x), µB(x))\n",
    "union = fuzz.fuzzy_or(X, VLPG, X, LPG)[1]\n",
    "union = fuzz.fuzzy_or(X, VLPG, X, LPG)[2]"
   ]
  },
  {
   "cell_type": "code",
   "execution_count": null,
   "id": "0f108e8b",
   "metadata": {},
   "outputs": [],
   "source": [
    "# 2. Intersection = min(µA(x), µB(x))\n",
    "intersection = fuzz.fuzzy_and(X, young, X, middle_aged)[1]"
   ]
  },
  {
   "cell_type": "code",
   "execution_count": null,
   "id": "7a96e831",
   "metadata": {},
   "outputs": [],
   "source": [
    "# 3. Complement (A) = (1- min(µA(x))\n",
    "complement_a = fuzz.fuzzy_not(young)"
   ]
  },
  {
   "cell_type": "code",
   "execution_count": null,
   "id": "11e09ae9",
   "metadata": {},
   "outputs": [],
   "source": [
    "# 4. Difference (A/B) = min(µA(x),(1- µB(x)))\n",
    "difference = fuzz.fuzzy_and(X, young, X, fuzz.fuzzy_not(middle_aged)[1])[1]"
   ]
  },
  {
   "cell_type": "code",
   "execution_count": null,
   "id": "2370075e",
   "metadata": {},
   "outputs": [],
   "source": [
    "# 5. Algebraic Sum = [µA(x) + µB(x) – (µA(x) * µB(x))]\n",
    "alg_sum = young + middle_aged - (young * middle_aged)"
   ]
  },
  {
   "cell_type": "code",
   "execution_count": null,
   "id": "07e7b0e4",
   "metadata": {},
   "outputs": [],
   "source": [
    "# 6. Algebraic Product = (µA(x) * µB(x))\n",
    "alg_product = young * middle_aged"
   ]
  },
  {
   "cell_type": "code",
   "execution_count": null,
   "id": "81cf1a72",
   "metadata": {},
   "outputs": [],
   "source": [
    "# 7. Bounded Sum = min[1,(µA(x), µB(x))]\n",
    "bdd_sum = fuzz.fuzzy_and(X, one, X, young + middle_aged)[1]"
   ]
  },
  {
   "cell_type": "code",
   "execution_count": null,
   "id": "b8e1383d",
   "metadata": {},
   "outputs": [],
   "source": [
    "# 8. Bounded difference = min[0,(µA(x), µB(x))]\n",
    "bdd_difference = fuzz.fuzzy_or(X, zero, X, young - middle_aged)[1]"
   ]
  },
  {
   "cell_type": "code",
   "execution_count": null,
   "id": "ebd3d3aa",
   "metadata": {},
   "outputs": [],
   "source": [
    "# max-min composition\n",
    "# max-product composition\n",
    "# Plot each set A, set B and each operation result using plot() and subplot().\n",
    "import matplotlib.pyplot as plt"
   ]
  },
  {
   "cell_type": "code",
   "execution_count": null,
   "id": "d329bfbd",
   "metadata": {},
   "outputs": [],
   "source": [
    "plt.figure()\n",
    "plt.subplot(4, 3, 1)\n",
    "plt.plot(X, young)\n",
    "plt.title(\"Young\")\n",
    "plt.grid(True)"
   ]
  },
  {
   "cell_type": "code",
   "execution_count": null,
   "id": "5b9801f2",
   "metadata": {},
   "outputs": [],
   "source": [
    "plt.subplot(4, 3, 2)\n",
    "plt.plot(X, middle_aged)\n",
    "plt.title(\"Middle aged\")\n",
    "plt.grid(True)"
   ]
  },
  {
   "cell_type": "code",
   "execution_count": null,
   "id": "0ab0915e",
   "metadata": {},
   "outputs": [],
   "source": [
    "plt.subplot(4, 3, 3)\n",
    "plt.plot(X, union)\n",
    "plt.title(\"union\")\n",
    "plt.grid(True)"
   ]
  },
  {
   "cell_type": "code",
   "execution_count": null,
   "id": "c9fb29ce",
   "metadata": {},
   "outputs": [],
   "source": [
    "plt.subplot(4, 3, 4)\n",
    "plt.plot(X, intersection)\n",
    "plt.title(\"intersection\")\n",
    "plt.grid(True)"
   ]
  },
  {
   "cell_type": "code",
   "execution_count": null,
   "id": "8b4fc355",
   "metadata": {},
   "outputs": [],
   "source": [
    "plt.subplot(4, 3, 5)\n",
    "plt.plot(X, complement_a)\n",
    "plt.title(\"complement_a\")\n",
    "plt.grid(True)"
   ]
  },
  {
   "cell_type": "code",
   "execution_count": null,
   "id": "5e004937",
   "metadata": {},
   "outputs": [],
   "source": [
    "plt.subplot(4, 3, 6)\n",
    "plt.plot(X, difference)\n",
    "plt.title(\"difference a/b\")\n",
    "plt.grid(True)"
   ]
  },
  {
   "cell_type": "code",
   "execution_count": null,
   "id": "c62fe674",
   "metadata": {},
   "outputs": [],
   "source": [
    "plt.subplot(4, 3, 7)\n",
    "plt.plot(X, alg_sum)\n",
    "plt.title(\"alg_sum\")\n",
    "plt.grid(True)"
   ]
  },
  {
   "cell_type": "code",
   "execution_count": null,
   "id": "9f0e05f9",
   "metadata": {},
   "outputs": [],
   "source": [
    "plt.subplot(4, 3, 8)\n",
    "plt.plot(X, alg_product)\n",
    "plt.title(\"alg_product\")\n",
    "plt.grid(True)"
   ]
  },
  {
   "cell_type": "code",
   "execution_count": null,
   "id": "a01a7b65",
   "metadata": {},
   "outputs": [],
   "source": [
    "plt.subplot(4, 3, 9)\n",
    "plt.plot(X, bdd_sum)\n",
    "plt.title(\"bdd_sum\")\n",
    "plt.grid(True)"
   ]
  },
  {
   "cell_type": "code",
   "execution_count": null,
   "id": "a17705e0",
   "metadata": {},
   "outputs": [],
   "source": [
    "plt.subplot(4, 3, 10)\n",
    "plt.plot(X, bdd_difference)\n",
    "plt.title(\"bdd_difference\")\n",
    "plt.grid(True)"
   ]
  },
  {
   "cell_type": "code",
   "execution_count": null,
   "id": "1bcff375",
   "metadata": {},
   "outputs": [],
   "source": [
    "plt.subplots_adjust(hspace=0.5)\n",
    "plt.show()"
   ]
  }
 ],
 "metadata": {
  "kernelspec": {
   "display_name": "Python 3",
   "language": "python",
   "name": "python3"
  },
  "language_info": {
   "codemirror_mode": {
    "name": "ipython",
    "version": 3
   },
   "file_extension": ".py",
   "mimetype": "text/x-python",
   "name": "python",
   "nbconvert_exporter": "python",
   "pygments_lexer": "ipython3",
   "version": "3.8.8"
  }
 },
 "nbformat": 4,
 "nbformat_minor": 5
}
